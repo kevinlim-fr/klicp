{
 "cells": [
  {
   "cell_type": "markdown",
   "id": "5c07fec1-b256-4944-acbe-5b4058f8ccb7",
   "metadata": {},
   "source": [
    "# <b> Notebook Basics Data Scientists Package Import"
   ]
  },
  {
   "cell_type": "code",
   "execution_count": 1,
   "id": "1073700d-fcd0-4fab-94ee-b162ad02aea7",
   "metadata": {
    "tags": []
   },
   "outputs": [],
   "source": [
    "from sklearn.decomposition import PCA\n",
    "from sklearn.metrics import confusion_matrix, ConfusionMatrixDisplay, accuracy_score, f1_score\n",
    "from sklearn.naive_bayes import GaussianNB\n",
    "from sklearn.linear_model import LogisticRegression, SGDClassifier\n",
    "from sklearn.svm import SVC\n",
    "from sklearn.neighbors import KNeighborsClassifier\n",
    "from sklearn.tree import DecisionTreeClassifier\n",
    "from sklearn.ensemble import RandomForestClassifier, GradientBoostingClassifier, VotingClassifier\n",
    "from sklearn.discriminant_analysis import LinearDiscriminantAnalysis\n",
    "from xgboost import XGBClassifier"
   ]
  },
  {
   "cell_type": "markdown",
   "id": "b195da23-136c-4903-911e-d398506ffaa2",
   "metadata": {},
   "source": [
    "## <b> List of classifiers to compare"
   ]
  },
  {
   "cell_type": "code",
   "execution_count": null,
   "id": "a802e01a-b486-43b0-bb18-ad2eb3efdf25",
   "metadata": {},
   "outputs": [],
   "source": [
    "classifiers = {\n",
    "    \"Logistic Regression Algotithm\": LogisticRegression(max_iter = 10000),\n",
    "    \"Linear Discriminant Analysis\": LinearDiscriminantAnalysis(),\n",
    "    \"Decision Tree \\t\\t\": DecisionTreeClassifier(),\n",
    "    \"Random Forest \\t\\t\": RandomForestClassifier(),\n",
    "    \"Gradient Boosting \\t\": GradientBoostingClassifier(),\n",
    "    \"XGBoost Classifier \\t\" : XGBClassifier(),\n",
    "    \"Support Vector Classification\": SVC(),\n",
    "    \"Naive Bayes Classification\": GaussianNB(),\n",
    "    \"K Nearest Neighbour Algorithm\": KNeighborsClassifier(),\n",
    "    \"Stochastic Gradient Descent\": SGDClassifier(),\n",
    "}"
   ]
  },
  {
   "cell_type": "markdown",
   "id": "f67bb610-5e50-4116-a19a-282d0c39eb31",
   "metadata": {},
   "source": [
    "## <b> List of regressors to compare"
   ]
  },
  {
   "cell_type": "markdown",
   "id": "e1f2c685-3397-49f8-aa8a-2d06a1eac135",
   "metadata": {},
   "source": [
    "### compare_class_algo()"
   ]
  },
  {
   "cell_type": "code",
   "execution_count": 2,
   "id": "2cf506ee-2766-46e3-975a-cbaf48d2e5c1",
   "metadata": {
    "tags": []
   },
   "outputs": [],
   "source": [
    "def compare_class_algo(classifiers,X_train, X_test, y_train, y_test, display=False, display_labels=None):\n",
    "    '''\n",
    "    Create clustering model using training dataframe, and predict on pca dataframe\n",
    "    \n",
    "    Parameters\n",
    "    ----------\n",
    "    classifiers : dictionnary\n",
    "        Dictionnary of labels and corresponding classifiers of classification algorithm example: {'XGBoost':XGBClassifier(), 'Logistic Regression' : LogisticRegression()}\n",
    "    display_labels : array \n",
    "        Target label for display example: ['Business','Infinite','Platinium Facelia']\n",
    "    X_train, X_test, y_train, y_test : pd.DataFrame\n",
    "        DataFrame for algorithm evaluation\n",
    "\n",
    "    Returns\n",
    "    -------\n",
    "    names : array\n",
    "        Array containing name of each algorithms\n",
    "    accuracies : array\n",
    "        Array containing accuracy of each algorithm\n",
    "    f_scores : array\n",
    "        Array containing f_score of each algorithm\n",
    "    confusion_matrixes : array\n",
    "        Array containing confusion matrix of each algorithm\n",
    "    '''\n",
    "    names = []\n",
    "    accuracies = []\n",
    "    f_scores = []\n",
    "    confusion_matrixes = []\n",
    "    if display==True:\n",
    "        f, axes = plt.subplots(2, 5, figsize=(20, 5), sharey='row')\n",
    "        for i, (key, classifier) in enumerate(classifiers.items()): \n",
    "            j = 0\n",
    "            k = i\n",
    "            if i>4:\n",
    "                k = i-5\n",
    "                j+=1\n",
    "            y_pred = classifier.fit(X_train, y_train).predict(X_test)   \n",
    "            accuracy = round(accuracy_score(y_test,y_pred),3)\n",
    "            f_score = round(f1_score(y_test,y_pred,average='weighted'),3)\n",
    "            print(key, \"\\t Accuracy:\", accuracy,\"\\t F-score:\", f_score, \"\\t Overall:\", round((accuracy+f_score)/2,3))\n",
    "            names.append(key)\n",
    "            accuracies.append(accuracy)\n",
    "            f_scores.append(f_score)\n",
    "            cf_matrix = confusion_matrix(y_test, y_pred)\n",
    "            disp = ConfusionMatrixDisplay(cf_matrix, display_labels=display_labels)\n",
    "            disp.plot(ax=axes[j][k], xticks_rotation=45)\n",
    "            disp.ax_.set_title(key)\n",
    "            disp.im_.colorbar.remove()\n",
    "            disp.ax_.set_xlabel('')\n",
    "            if i!=0:\n",
    "                disp.ax_.set_ylabel('')\n",
    "        f.text(0.43, -0.1, 'Predicted label', ha='left')\n",
    "        plt.subplots_adjust(wspace=0.40, hspace=1)\n",
    "        f.colorbar(disp.im_, ax=axes)\n",
    "        plt.show()\n",
    "    else:\n",
    "        for i, (key, classifier) in enumerate(classifiers.items()): \n",
    "            y_pred = classifier.fit(X_train, y_train).predict(X_test)   \n",
    "            accuracy = round(accuracy_score(y_test,y_pred),3)\n",
    "            f_score = round(f1_score(y_test,y_pred,average='weighted'),3)\n",
    "            print(key, \"\\t Accuracy:\", accuracy,\"\\t F-score:\", f_score, \"\\t Overall:\", round((accuracy+f_score)/2,3))\n",
    "            names.append(key)\n",
    "            accuracies.append(accuracy)\n",
    "            f_scores.append(f_score)\n",
    "            cf_matrix = confusion_matrix(y_test, y_pred)\n",
    "            confusion_matrixes.append(cf_matrix)\n",
    "    return names,accuracies,f_scores,confusion_matrixes"
   ]
  }
 ],
 "metadata": {
  "kernelspec": {
   "display_name": "Python 3 (ipykernel)",
   "language": "python",
   "name": "python3"
  },
  "language_info": {
   "codemirror_mode": {
    "name": "ipython",
    "version": 3
   },
   "file_extension": ".py",
   "mimetype": "text/x-python",
   "name": "python",
   "nbconvert_exporter": "python",
   "pygments_lexer": "ipython3",
   "version": "3.9.16"
  }
 },
 "nbformat": 4,
 "nbformat_minor": 5
}
