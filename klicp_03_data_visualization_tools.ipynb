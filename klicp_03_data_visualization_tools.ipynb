{
 "cells": [
  {
   "cell_type": "markdown",
   "id": "5c07fec1-b256-4944-acbe-5b4058f8ccb7",
   "metadata": {},
   "source": [
    "# <b> Notebook Basics Data Scientists Package Import"
   ]
  },
  {
   "cell_type": "code",
   "execution_count": 2,
   "id": "1e2abe5d-2b74-4c2f-b460-f655ca8caf09",
   "metadata": {
    "tags": []
   },
   "outputs": [],
   "source": [
    "import missingno as msno\n",
    "from sklearn.decomposition import PCA"
   ]
  }
 ],
 "metadata": {
  "kernelspec": {
   "display_name": "Python 3 (ipykernel)",
   "language": "python",
   "name": "python3"
  },
  "language_info": {
   "codemirror_mode": {
    "name": "ipython",
    "version": 3
   },
   "file_extension": ".py",
   "mimetype": "text/x-python",
   "name": "python",
   "nbconvert_exporter": "python",
   "pygments_lexer": "ipython3",
   "version": "3.9.16"
  }
 },
 "nbformat": 4,
 "nbformat_minor": 5
}
