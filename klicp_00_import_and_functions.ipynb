{
 "cells": [
  {
   "cell_type": "markdown",
   "id": "5c07fec1-b256-4944-acbe-5b4058f8ccb7",
   "metadata": {},
   "source": [
    "# <b> Notebook Basics Data Scientists Package Import"
   ]
  },
  {
   "cell_type": "code",
   "execution_count": 2,
   "id": "1e2abe5d-2b74-4c2f-b460-f655ca8caf09",
   "metadata": {
    "tags": []
   },
   "outputs": [],
   "source": [
    "import math, joblib, os, warnings, pickle\n",
    "import pandas as pd\n",
    "import matplotlib.pyplot as plt\n",
    "import seaborn as sns\n",
    "import numpy as np\n",
    "from functools import partial\n",
    "import seaborn as sns\n",
    "import matplotlib.pyplot as plt\n",
    "from mpl_toolkits.mplot3d import Axes3D\n",
    "import plotly.express as px\n",
    "import plotly.graph_objs as go\n",
    "from plotly.subplots import make_subplots\n",
    "\n",
    "import warnings\n",
    "warnings.filterwarnings(\"ignore\")"
   ]
  },
  {
   "cell_type": "code",
   "execution_count": 3,
   "id": "aff00e6f-3276-4dc0-b43a-a9f4c2862365",
   "metadata": {
    "tags": []
   },
   "outputs": [],
   "source": [
    "pd.set_option('display.max_columns', None)\n",
    "pd.set_option('display.max_colwidth', 30) \n",
    "pd.set_option('display.max_rows', 500)"
   ]
  }
 ],
 "metadata": {
  "kernelspec": {
   "display_name": "Python 3 (ipykernel)",
   "language": "python",
   "name": "python3"
  },
  "language_info": {
   "codemirror_mode": {
    "name": "ipython",
    "version": 3
   },
   "file_extension": ".py",
   "mimetype": "text/x-python",
   "name": "python",
   "nbconvert_exporter": "python",
   "pygments_lexer": "ipython3",
   "version": "3.9.16"
  }
 },
 "nbformat": 4,
 "nbformat_minor": 5
}
