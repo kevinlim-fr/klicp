{
 "cells": [
  {
   "cell_type": "markdown",
   "id": "5c07fec1-b256-4944-acbe-5b4058f8ccb7",
   "metadata": {},
   "source": [
    "# <b> Notebook Basics Data Scientists Package Import"
   ]
  },
  {
   "cell_type": "code",
   "execution_count": 4,
   "id": "c2b1b7a8-feb8-4c63-a7c0-25c4d3e33c54",
   "metadata": {
    "tags": []
   },
   "outputs": [],
   "source": [
    "%run cp_00_00_import_and_functions.ipynb"
   ]
  },
  {
   "cell_type": "code",
   "execution_count": 5,
   "id": "ab9fb979-c639-420a-a3a5-2745d964350c",
   "metadata": {
    "tags": []
   },
   "outputs": [],
   "source": [
    "import shap"
   ]
  },
  {
   "cell_type": "markdown",
   "id": "139293ee-4f34-4219-a576-256b9d864343",
   "metadata": {
    "tags": []
   },
   "source": [
    "# Explicabilité"
   ]
  },
  {
   "cell_type": "markdown",
   "id": "a3fe490e-1ef4-4fe6-bef8-114cefcc64a3",
   "metadata": {},
   "source": [
    "### custom_explain()"
   ]
  },
  {
   "cell_type": "code",
   "execution_count": null,
   "id": "96d2b225-fb75-471d-a9f3-994c56ed5514",
   "metadata": {},
   "outputs": [],
   "source": [
    "def custom_explain(dataframe, drop_columns, model, color, labels):\n",
    "    '''\n",
    "    Compute the shapely values for explainability and exxport them into images\n",
    "\n",
    "    Parameters\n",
    "    ----------\n",
    "    X : pd.DataFrame\n",
    "        Features dataframe as used by the model for predction\n",
    "    model : model\n",
    "        Model to explain\n",
    "    color : array\n",
    "        Array of hex code for the classes\n",
    "    labels : string\n",
    "        Array of labels of the target class (must be in the same order as the colors in the array)\n",
    "    \n",
    "    Returns\n",
    "    -------\n",
    "    explainer : explainer\n",
    "        Explainer model\n",
    "    shap_values : array\n",
    "        Shap values computed for explaination\n",
    "    '''\n",
    "    \n",
    "    # Shap\n",
    "    X = dataframe.drop(columns = drop_columns)\n",
    "    explainer = shap.TreeExplainer(model)\n",
    "    shap_values = explainer.shap_values(X,approximate=True)\n",
    "    if type(shap_values)==list:\n",
    "            fig = plt.figure(figsize=(20,10))\n",
    "            fig.set_size_inches(5,8)\n",
    "            \n",
    "            # Creation de la colormap\n",
    "            class_inds = np.argsort([-np.abs(shap_values[i]).mean() for i in range(len(shap_values))])\n",
    "            cmap = []\n",
    "            for val in class_inds:\n",
    "                cmap.append(color[val])\n",
    "            cmap = plt_colors.ListedColormap(cmap)\n",
    "            \n",
    "            shap.summary_plot(shap_values, X, plot_type=\"bar\", show=False, class_names= labels, color = cmap)\n",
    "            #plt.tight_layout()\n",
    "            plt.savefig('%s/output/multiclass.png'%(path_notebooks),dpi=300, bbox_inches='tight')\n",
    "            for i in range(len(shap_values)):\n",
    "                plt.figure(figsize=(20,10))\n",
    "                shap.summary_plot(shap_values[i], X, show=False)\n",
    "                #plt.tight_layout()\n",
    "                plt.savefig('%s/output/Class%i.png'%(path_notebooks,i),dpi=300, bbox_inches='tight')\n",
    "    else:\n",
    "        plt.figure(figsize=(20,10))\n",
    "        shap.summary_plot(shap_values,X,show=False)\n",
    "        #plt.tight_layout()\n",
    "        plt.savefig('%s/output/result.png'%(path_notebooks),dpi=300, bbox_inches='tight')\n",
    "        \n",
    "    return explainer, shap_values"
   ]
  },
  {
   "cell_type": "markdown",
   "id": "5b9dff1d-f894-42ef-95d1-07be0a335c70",
   "metadata": {},
   "source": [
    "### custom_feature_importance()"
   ]
  },
  {
   "cell_type": "code",
   "execution_count": null,
   "id": "19753bfd-21fa-4f8f-9d99-d9f1e3bc0049",
   "metadata": {},
   "outputs": [],
   "source": [
    "def custom_feature_importance(features_name, shap_values):\n",
    "    '''\n",
    "    Create the feature importance DataFrame\n",
    "    WARNING: Maybe the function needs correction for vals variable computation with the .mean() beacause shap values will return an array not a matrix\n",
    "\n",
    "    Parameters\n",
    "    ----------\n",
    "    features_name : array\n",
    "        List of all features name (Ex: X.columns.tolist())\n",
    "    shap_values : array\n",
    "        Shap values computed by the custom_explain() function\n",
    "    \n",
    "    Returns\n",
    "    -------\n",
    "    feature_importance : pd.DataFrame\n",
    "        Return a DataFrame with all features names and its importance\n",
    "    '''\n",
    "    vals = np.abs(shap_values).mean(1).mean(0)\n",
    "    feature_importance = pd.DataFrame(list(zip(features_name, vals)), columns=['features', 'importance'])\n",
    "    feature_importance.sort_values(by=['importance'], ascending=False, inplace=True)\n",
    "    return feature_importance"
   ]
  },
  {
   "cell_type": "code",
   "execution_count": null,
   "id": "7c078521-dcc9-45bc-9791-a69aa7d78bac",
   "metadata": {},
   "outputs": [],
   "source": []
  }
 ],
 "metadata": {
  "environment": {
   "kernel": "python3",
   "name": "common-cpu.m108",
   "type": "gcloud",
   "uri": "gcr.io/deeplearning-platform-release/base-cpu:m108"
  },
  "kernelspec": {
   "display_name": "Python 3",
   "language": "python",
   "name": "python3"
  },
  "language_info": {
   "codemirror_mode": {
    "name": "ipython",
    "version": 3
   },
   "file_extension": ".py",
   "mimetype": "text/x-python",
   "name": "python",
   "nbconvert_exporter": "python",
   "pygments_lexer": "ipython3",
   "version": "3.10.10"
  }
 },
 "nbformat": 4,
 "nbformat_minor": 5
}
